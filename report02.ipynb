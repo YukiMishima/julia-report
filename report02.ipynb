{
 "cells": [
  {
   "cell_type": "markdown",
   "metadata": {},
   "source": [
    "## Report No.02 二分法とNLsolveパッケージ\n",
    "### sin(x) = 3/4 の近似解を求めてみよう\n",
    "- 二分法を用いて自分でプログラムして近似解を求める"
   ]
  },
  {
   "cell_type": "code",
   "execution_count": 1,
   "metadata": {},
   "outputs": [
    {
     "data": {
      "text/plain": [
       "(0.0, 1.0)"
      ]
     },
     "execution_count": 1,
     "metadata": {},
     "output_type": "execute_result"
    }
   ],
   "source": [
    "f(x)=sin(x)-3/4      #関数を定義\n",
    "left, right = 0.0, 1.0"
   ]
  },
  {
   "cell_type": "code",
   "execution_count": 2,
   "metadata": {},
   "outputs": [
    {
     "data": {
      "text/plain": [
       "-0.06860323860592238"
      ]
     },
     "execution_count": 2,
     "metadata": {},
     "output_type": "execute_result"
    }
   ],
   "source": [
    "f(left)*f(right)     #定義域内にf(x)=0なるxが存在することを確認"
   ]
  },
  {
   "cell_type": "code",
   "execution_count": 3,
   "metadata": {},
   "outputs": [
    {
     "name": "stdout",
     "output_type": "stream",
     "text": [
      "24:0.8480620682239532\n"
     ]
    }
   ],
   "source": [
    "sq = [left right]\n",
    "for i in 0:100           #二分法を用いて近似解を求める\n",
    "    av = (left+right)/2\n",
    "    \n",
    "    if abs(f(av)) < 1.0e-8\n",
    "        println(i,\":\",av)\n",
    "        break\n",
    "    end\n",
    "    \n",
    "    if f(av)*f(left) < 0\n",
    "        right = av\n",
    "    else\n",
    "        left = av\n",
    "        end \n",
    "    sq = vcat(sq, [left right])\n",
    "end"
   ]
  },
  {
   "cell_type": "markdown",
   "metadata": {},
   "source": [
    "以上から、近似解はx=0.8480620682239532と求まる。\n",
    "\n",
    "---\n",
    "\n",
    "- NLsolveパッケージを用いて近似解を求める"
   ]
  },
  {
   "cell_type": "code",
   "execution_count": 4,
   "metadata": {},
   "outputs": [
    {
     "data": {
      "text/plain": [
       "(0.8480620789800516, true)"
      ]
     },
     "execution_count": 4,
     "metadata": {},
     "output_type": "execute_result"
    }
   ],
   "source": [
    "using NLsolve\n",
    "\n",
    "function nls(func, params...; ini = [0.0])\n",
    "    if typeof(ini) <: Number\n",
    "        r = nlsolve((vout,vin)->vout[1]=func(vin[1],params...), [ini])\n",
    "        v = r.zero[1]\n",
    "    else\n",
    "        r = nlsolve((vout,vin)->vout .= func(vin,params...), ini)\n",
    "        v = r.zero\n",
    "    end\n",
    "    return v, r.f_converged\n",
    "end\n",
    "\n",
    "nls(f, ini = 0.9)"
   ]
  },
  {
   "cell_type": "markdown",
   "metadata": {},
   "source": [
    "以上から、NLsolveパッケージを使って求めた近似解は0.848062078981481となる。\n",
    "\n",
    "---\n",
    "\n",
    "### 非線形連立方程式の近似解も求めてみよう"
   ]
  },
  {
   "cell_type": "code",
   "execution_count": 5,
   "metadata": {},
   "outputs": [
    {
     "data": {
      "text/plain": [
       "f (generic function with 1 method)"
      ]
     },
     "execution_count": 5,
     "metadata": {},
     "output_type": "execute_result"
    }
   ],
   "source": [
    "function f(vx)       #関数を定義\n",
    "    x, y, z = vx\n",
    "    return [\n",
    "        x+2y+z+1\n",
    "        x^2+2y^2+z^2-10\n",
    "        sin(x+y+z)-0.7\n",
    "    ]\n",
    "end"
   ]
  },
  {
   "cell_type": "code",
   "execution_count": 6,
   "metadata": {},
   "outputs": [
    {
     "data": {
      "text/plain": [
       "([0.804946, -1.7754, 1.74585], true)"
      ]
     },
     "execution_count": 6,
     "metadata": {},
     "output_type": "execute_result"
    }
   ],
   "source": [
    "nls(f, ini = [1.0, 0.0, 1.0])"
   ]
  },
  {
   "cell_type": "markdown",
   "metadata": {},
   "source": [
    "上記の実行結果がNLsolveによって得られた解である。  \n",
    "\n",
    "---\n",
    "\n",
    "次に、Newton法を自力でプログラムして近似解を求める。"
   ]
  },
  {
   "cell_type": "code",
   "execution_count": 7,
   "metadata": {},
   "outputs": [
    {
     "data": {
      "text/plain": [
       "J (generic function with 1 method)"
      ]
     },
     "execution_count": 7,
     "metadata": {},
     "output_type": "execute_result"
    }
   ],
   "source": [
    "function J(vx)      #ヤコビアンを定義\n",
    "    x,y,z = vx\n",
    "    return [\n",
    "        1 2 1\n",
    "        2x 4y 2z\n",
    "        cos(x+y+z) cos(x+y+z) cos(x+y+z)\n",
    "    ]\n",
    "end"
   ]
  },
  {
   "cell_type": "code",
   "execution_count": 8,
   "metadata": {},
   "outputs": [
    {
     "name": "stdout",
     "output_type": "stream",
     "text": [
      "7: [0.804946, -1.7754, 1.74585], [-2.22045e-16, 1.04095e-12, -1.11022e-16]\n"
     ]
    }
   ],
   "source": [
    "vx = [ 1.0, -1.5, 1.5 ]\n",
    "\n",
    "for i in 1:100            #Newton法を実装する\n",
    "    if norm(f(vx)) < 1.0e-06\n",
    "        println(i, \": \", vx,\", \", f(vx))\n",
    "        break\n",
    "    end\n",
    "    vx = vx - J(vx)\\f(vx)   \n",
    "end"
   ]
  },
  {
   "cell_type": "markdown",
   "metadata": {},
   "source": [
    "上記の実行結果が自作Newton法により求めた近似解である。  \n",
    "NLsolveパッケージにより求めた解と全く同じ解が得られた。"
   ]
  },
  {
   "cell_type": "code",
   "execution_count": null,
   "metadata": {},
   "outputs": [],
   "source": []
  }
 ],
 "metadata": {
  "kernelspec": {
   "display_name": "Julia 0.6.2",
   "language": "julia",
   "name": "julia-0.6"
  },
  "language_info": {
   "file_extension": ".jl",
   "mimetype": "application/julia",
   "name": "julia",
   "version": "0.6.2"
  }
 },
 "nbformat": 4,
 "nbformat_minor": 2
}
