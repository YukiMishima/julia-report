{
 "cells": [
  {
   "cell_type": "markdown",
   "metadata": {},
   "source": [
    "## Report No.01 自力でやってみよう\n",
    "\n",
    "1. sin(x)=3/4の近似解を求めてみよう。"
   ]
  },
  {
   "cell_type": "code",
   "execution_count": 1,
   "metadata": {},
   "outputs": [
    {
     "name": "stdout",
     "output_type": "stream",
     "text": [
      "1: 1.0, 0.0914709848078965\n",
      "2: 0.830704063605792, -0.011593656366530647\n",
      "3: 0.847896252361635, -0.00010969431063945212\n",
      "4: 0.8480620633957656, -1.0308981890361224e-8\n"
     ]
    }
   ],
   "source": [
    "g(x) = sin(x) -3/4      #関数を定義\n",
    "dg(x) = cos(x)          #微分した関数も定義\n",
    "\n",
    "x = 1.0       #初期値を設定\n",
    "sq = [x]\n",
    "\n",
    "for i in 1:100\n",
    "    println(i, \": \", x, \", \", g(x)) \n",
    "    if abs(g(x)) < 1.0e-06          \n",
    "        break\n",
    "    end\n",
    "    x = x - g(x)/dg(x)  \n",
    "    push!(sq, x)        # 新しい近似値をベクトルの要素として増やす\n",
    "end"
   ]
  },
  {
   "cell_type": "markdown",
   "metadata": {},
   "source": [
    "よってsin(x)=3/4の近似解はx=0.8480620633957656と求まる。\n",
    "\n",
    "---\n",
    "\n",
    "2.連立方程式\n",
    "\\begin{cases}\n",
    " {}\n",
    " x + 2y = -1, & \\\\\n",
    " sin(x+y) = 0.7 &\n",
    "\\end{cases}\n",
    "の近似解を求めてみよう。"
   ]
  },
  {
   "cell_type": "code",
   "execution_count": 3,
   "metadata": {},
   "outputs": [
    {
     "name": "stdout",
     "output_type": "stream",
     "text": [
      "1: [1.0, 0.0], [2.0, 0.141471]\n",
      "2: [2.47633, -1.73816], [0.0, -0.0270696]\n",
      "3: [2.54952, -1.77476], [0.0, -0.000456585]\n",
      "4: [2.55079, -1.7754], [0.0, -1.42827e-7]\n"
     ]
    }
   ],
   "source": [
    "function g(vx)\n",
    "    x,y = vx\n",
    "    return [\n",
    "        x+2y+1\n",
    "        sin(x+y)-0.7\n",
    "    ]\n",
    "end\n",
    "\n",
    "function J(vx)\n",
    "        x,y = vx\n",
    "        return [\n",
    "            1 2\n",
    "            cos(x+y) cos(x+y)\n",
    "        ]\n",
    "end\n",
    "\n",
    "vx = [ 1.0, 0.0 ]   #初期値の設定\n",
    "\n",
    "sq = copy(vx)\n",
    "\n",
    "for i in 1:100\n",
    "    println(i, \": \", vx,\", \", g(vx))\n",
    "    if norm(g(vx)) < 1.0e-06\n",
    "        break\n",
    "    end\n",
    "    vx = vx - J(vx)\\g(vx)\n",
    "    sq = hcat(sq, vx)\n",
    "end"
   ]
  },
  {
   "cell_type": "markdown",
   "metadata": {},
   "source": [
    "以上が連立方程式の解である。"
   ]
  },
  {
   "cell_type": "code",
   "execution_count": null,
   "metadata": {},
   "outputs": [],
   "source": []
  }
 ],
 "metadata": {
  "kernelspec": {
   "display_name": "Julia 0.6.2",
   "language": "julia",
   "name": "julia-0.6"
  },
  "language_info": {
   "file_extension": ".jl",
   "mimetype": "application/julia",
   "name": "julia",
   "version": "0.6.2"
  }
 },
 "nbformat": 4,
 "nbformat_minor": 2
}
